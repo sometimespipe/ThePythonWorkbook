{
 "cells": [
  {
   "cell_type": "markdown",
   "metadata": {},
   "source": [
    "# Capítulo 1\n",
    "### ejercicios introductorios"
   ]
  },
  {
   "cell_type": "code",
   "execution_count": 3,
   "metadata": {},
   "outputs": [
    {
     "name": "stdin",
     "output_type": "stream",
     "text": [
      "what's your name?:  pipe\n"
     ]
    },
    {
     "name": "stdout",
     "output_type": "stream",
     "text": [
      "hello pipe\n"
     ]
    }
   ],
   "source": [
    "# 2: Hello\n",
    "\n",
    "your_name = str(input('what\\'s your name?: '))\n",
    "print(\"hello \"+ your_name) \n"
   ]
  },
  {
   "cell_type": "code",
   "execution_count": 5,
   "metadata": {},
   "outputs": [
    {
     "name": "stdin",
     "output_type": "stream",
     "text": [
      "largo de la habitación (m):  3\n",
      "ancho de la habitación(m):  4\n"
     ]
    },
    {
     "name": "stdout",
     "output_type": "stream",
     "text": [
      "12.0 m**2\n"
     ]
    }
   ],
   "source": [
    "# 3: area of a room\n",
    "\n",
    "largo = float(input(\"largo de la habitación (m): \"))\n",
    "ancho = float(input(\"ancho de la habitación(m): \"))\n",
    "area = str(largo * ancho)\n",
    "print(area + \" m**2\")\n",
    "\n"
   ]
  },
  {
   "cell_type": "code",
   "execution_count": 12,
   "metadata": {},
   "outputs": [
    {
     "name": "stdout",
     "output_type": "stream",
     "text": [
      "what you ordered costs 3000\n",
      "impuesto: 390.00 propina: 540.00 precio final: 3930.00\n"
     ]
    }
   ],
   "source": [
    "#5: tax and tip\n",
    "\n",
    "print(\"what you ordered costs 3000\")\n",
    "precio = float(3000)\n",
    "impuesto = float(precio*0.13)\n",
    "propina = float(precio*0.18)\n",
    "precio_neto = float(precio+impuesto+propina)\n",
    "\n",
    "print(\"impuesto: %.2f propina: %.2f precio final: %.2f\"%(impuesto, propina, precio_neto))\n",
    "\n",
    "\n",
    "\n",
    "    "
   ]
  },
  {
   "cell_type": "code",
   "execution_count": 14,
   "metadata": {},
   "outputs": [
    {
     "name": "stdin",
     "output_type": "stream",
     "text": [
      "ingrese un número entero cualquiera:  9876\n"
     ]
    },
    {
     "name": "stdout",
     "output_type": "stream",
     "text": [
      "48772626.0\n"
     ]
    }
   ],
   "source": [
    "# 7: sum of the first n terms\n",
    "\n",
    "numero = int(input(\"ingrese un número entero cualquiera: \"))\n",
    "for suma in range(1, numero):\n",
    "    suma = (numero**2 + numero)/2\n",
    "print(suma)"
   ]
  },
  {
   "cell_type": "code",
   "execution_count": 26,
   "metadata": {},
   "outputs": [
    {
     "name": "stdin",
     "output_type": "stream",
     "text": [
      "numero de widgets:  90\n",
      "número de gizmos:  764\n"
     ]
    },
    {
     "name": "stdout",
     "output_type": "stream",
     "text": [
      "ordenó un total de 854 para un peso total de 92318 g\n"
     ]
    }
   ],
   "source": [
    "# 8: widgets and gizmos\n",
    "\n",
    "num_widgets = int(input(\"numero de widgets: \"))\n",
    "num_gizmos = int(input(\"número de gizmos: \"))\n",
    "order_total = str(num_widgets + num_gizmos)\n",
    "w_widget = 75 #mass grams\n",
    "w_gizmo = 112 #mass grams\n",
    "masa_total = str(int(num_widgets*w_widget)+(num_gizmos*w_gizmo))\n",
    "print(\"ordenó un total de \"+order_total+ \" para un peso total de \"+masa_total+ \" g\")\n",
    "\n"
   ]
  },
  {
   "cell_type": "code",
   "execution_count": 47,
   "metadata": {},
   "outputs": [
    {
     "name": "stdin",
     "output_type": "stream",
     "text": [
      "primera ubicacion:  san jose\n",
      "latitud:  234234\n",
      "longitud:  234324\n",
      "segunda ubicación:  sao paulo\n",
      "latitud:  87\n",
      "longitud:  -98\n"
     ]
    },
    {
     "name": "stdout",
     "output_type": "stream",
     "text": [
      "16158.9570\n"
     ]
    }
   ],
   "source": [
    "# 12: distancia entre dos puntos en la tierra\n",
    "\n",
    "from math import sin, cos, acos, radians\n",
    "\n",
    "primera_ubicacion = str(input(\"primera ubicacion: \"))\n",
    "first_coord = radians(float(input(\"latitud: \")))\n",
    "first_coord_1 = radians(float(input(\"longitud: \")))\n",
    "\n",
    "segunda_ubicacion = str(input(\"segunda ubicación: \"))\n",
    "second_coord = radians(float(input(\"latitud: \")))\n",
    "second_coord_1 = radians(float(input(\"longitud: \")))\n",
    "\n",
    "arcos_argument = sin(first_coord)*sin(second_coord) + cos(first_coord)*cos(second_coord)*cos(first_coord_1 - second_coord_1)\n",
    "distance = abs(6371.01 * acos(arcos_argument))\n",
    "print(\"%.4f\"%distance)\n",
    "\n"
   ]
  },
  {
   "cell_type": "code",
   "execution_count": 48,
   "metadata": {},
   "outputs": [
    {
     "name": "stdin",
     "output_type": "stream",
     "text": [
      "pies:  5\n",
      "pulgadas:  6\n"
     ]
    },
    {
     "name": "stdout",
     "output_type": "stream",
     "text": [
      "la estatura en centímetros es: 168\n"
     ]
    }
   ],
   "source": [
    "# 14: coversion table\n",
    "pies = int(input(\"pies: \"))\n",
    "pulgadas = int(input(\"pulgadas: \"))\n",
    "\n",
    "inches = 2.54*pulgadas        # cm en una pulgada\n",
    "feet = pies*2.54*12           # cm en un pie\n",
    "\n",
    "estatura_tot = inches + feet\n",
    "print(\"la estatura en centímetros es: %.0f\"%estatura_tot)\n",
    "\n",
    "\n"
   ]
  },
  {
   "cell_type": "code",
   "execution_count": 51,
   "metadata": {},
   "outputs": [
    {
     "name": "stdin",
     "output_type": "stream",
     "text": [
      "ingrese masa en gramos:  30\n",
      "cambio deseado de temp:  70\n"
     ]
    },
    {
     "name": "stdout",
     "output_type": "stream",
     "text": [
      "energía: 5651.100 J\n"
     ]
    }
   ],
   "source": [
    "# 17: capacidad calorífica\n",
    "\n",
    "masa_sust = float(input(\"ingrese masa en gramos: \"))\n",
    "cambio_temp = float(input(\"cambio deseado de temp: \")) - 25\n",
    "cal_water = 4.186\n",
    "q_spec = masa_sust*cambio_temp*cal_water\n",
    "print(\"energía: %.3f J\"%q_spec)"
   ]
  },
  {
   "cell_type": "code",
   "execution_count": 53,
   "metadata": {},
   "outputs": [
    {
     "name": "stdin",
     "output_type": "stream",
     "text": [
      "altura:  757653\n"
     ]
    },
    {
     "name": "stdout",
     "output_type": "stream",
     "text": [
      "velocidad final = 3855.54 m/s\n"
     ]
    }
   ],
   "source": [
    "# 19: caída libre\n",
    "\n",
    "import math\n",
    "\n",
    "altura_caida = float(input(\"altura: \"))\n",
    "grav_accel = 9.81\n",
    "final_veloc = math.sqrt(2*grav_accel*altura_caida)\n",
    "print(\"velocidad final = %.2f m/s\"%final_veloc)"
   ]
  },
  {
   "cell_type": "code",
   "execution_count": 57,
   "metadata": {},
   "outputs": [
    {
     "name": "stdout",
     "output_type": "stream",
     "text": [
      "Fri Aug 21 22:07:28 2020\n"
     ]
    }
   ],
   "source": [
    "import time\n",
    "print(time.asctime())"
   ]
  },
  {
   "cell_type": "code",
   "execution_count": 3,
   "metadata": {},
   "outputs": [
    {
     "name": "stdin",
     "output_type": "stream",
     "text": [
      "temperature in celsius:  6\n",
      "velocity of wind (km/h):  4.7\n"
     ]
    },
    {
     "name": "stdout",
     "output_type": "stream",
     "text": [
      "5\n"
     ]
    }
   ],
   "source": [
    "# 28: wind chill index\n",
    "\n",
    "temp_wind = float(input(\"temperature in celsius: \"))\n",
    "veloc_wind = float(input(\"velocity of wind (km/h): \"))\n",
    "wci = 13.12 + 0.6215*temp_wind - 11.37*veloc_wind**0.16 + 0.3965*temp_wind*veloc_wind**0.16\n",
    "\n",
    "if temp_wind > 10 or veloc_wind > 4.8:\n",
    "    print(\"parameter not accepted. make sure the temperature does not exceed 10 degrees celsius or that the winds velocity exceeds 4.8 km/h\")\n",
    "else:\n",
    "    print(\"%.0f\"%wci)"
   ]
  },
  {
   "cell_type": "code",
   "execution_count": 6,
   "metadata": {},
   "outputs": [
    {
     "name": "stdin",
     "output_type": "stream",
     "text": [
      "temperature to convert:  66.9\n"
     ]
    },
    {
     "name": "stdout",
     "output_type": "stream",
     "text": [
      "66.9 celsius is 340 kelvin and 152 farenheit\n"
     ]
    }
   ],
   "source": [
    "# 29: conversiones C a K y a F\n",
    "\n",
    "temp_user = float(input(\"temperature to convert: \"))\n",
    "c_to_k = temp_user + 273.15\n",
    "c_to_f = (9/5)*temp_user + 32\n",
    "\n",
    "print(str(temp_user)+ \" celsius is %d kelvin and %d farenheit\"%(c_to_k, c_to_f))"
   ]
  },
  {
   "cell_type": "code",
   "execution_count": 8,
   "metadata": {},
   "outputs": [
    {
     "name": "stdin",
     "output_type": "stream",
     "text": [
      "number:  7\n"
     ]
    },
    {
     "name": "stdout",
     "output_type": "stream",
     "text": [
      "7 is odd\n"
     ]
    }
   ],
   "source": [
    "# 34: even or odd\n",
    "\n",
    "random = int(input(\"number: \"))\n",
    "if random%2 == 0:\n",
    "    print(str(random)+ \" is even\")\n",
    "else:\n",
    "    print(str(random)+ \" is odd\")"
   ]
  },
  {
   "cell_type": "code",
   "execution_count": 32,
   "metadata": {},
   "outputs": [
    {
     "name": "stdin",
     "output_type": "stream",
     "text": [
      "human years:  4\n"
     ]
    },
    {
     "name": "stdout",
     "output_type": "stream",
     "text": [
      "4\n",
      "None\n"
     ]
    }
   ],
   "source": [
    "# 35: human years to dog years\n",
    "\n"
   ]
  },
  {
   "cell_type": "code",
   "execution_count": 36,
   "metadata": {},
   "outputs": [],
   "source": [
    "# 36: vocal o consonante?\n",
    "\n",
    "\n",
    "    "
   ]
  },
  {
   "cell_type": "code",
   "execution_count": 79,
   "metadata": {},
   "outputs": [
    {
     "name": "stdout",
     "output_type": "stream",
     "text": [
      "a3 is white\n"
     ]
    },
    {
     "name": "stdin",
     "output_type": "stream",
     "text": [
      "row number (1-8):  5\n",
      "column letter (a-h):  a\n"
     ]
    }
   ],
   "source": [
    "#45: what color is the square\n",
    "\n",
    "row = int(input(\"row number (1-8): \"))\n",
    "column = str(input(\"column letter (a-h): \"))\n",
    "white = row%2 == 0 and column == \"a\" or \"c\" or \"e\" or \"g\"\n",
    "\n",
    "if white:\n",
    "    print(column+str(row)+\" is white\")\n",
    "elif not white:\n",
    "    print(column+str(row)+\" is black\")\n",
    "elif row%2 == 0 and column == \"b\" or \"d\" or \"f\" or \"h\":\n",
    "    print(column+str(row)+\" is black\")\n",
    "elif not row%2 == 0 and column == \"b\" or \"d\" or \"f\" or \"h\":\n",
    "    print(column+str(row)+\" is white\")\n",
    "else:\n",
    "    print(\"invalid input\")"
   ]
  },
  {
   "cell_type": "code",
   "execution_count": 1,
   "metadata": {},
   "outputs": [
    {
     "name": "stdout",
     "output_type": "stream",
     "text": [
      "mes: enero\n",
      "dia: 31\n",
      "es verano\n"
     ]
    }
   ],
   "source": [
    "# 46: season of the year\n",
    "\n",
    "mes = str(input(\"mes: \"))\n",
    "dia = int(input(\"dia: \"))\n",
    "\n",
    "meses = [\"enero\", \"febrero\", \"marzo\", \"abril\", \"mayo\", \"junio\", \"julio\", \"agosto\", \"septiembre\", \"octubre\", \"noviembre\", \"diciembre\"]\n",
    "\n",
    "if meses[2:5] and 20 <= dia <= 21:\n",
    "    print(\"es primavera\")\n",
    "elif meses[5] and dia > 21 or meses[8] and dia <= 22:\n",
    "    print(\"es verano\")\n",
    "elif meses[8] and dia > 22 or meses[11] and dia <= 21:\n",
    "    print(\"es otoño\")\n",
    "else:\n",
    "    print(\"es invierno\")\n"
   ]
  }
 ],
 "metadata": {
  "kernelspec": {
   "display_name": "Python 3",
   "language": "python",
   "name": "python3"
  },
  "language_info": {
   "codemirror_mode": {
    "name": "ipython",
    "version": 3
   },
   "file_extension": ".py",
   "mimetype": "text/x-python",
   "name": "python",
   "nbconvert_exporter": "python",
   "pygments_lexer": "ipython3",
   "version": "3.7.6"
  }
 },
 "nbformat": 4,
 "nbformat_minor": 4
}
